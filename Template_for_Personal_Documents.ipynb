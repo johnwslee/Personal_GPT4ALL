{
 "cells": [
  {
   "cell_type": "markdown",
   "id": "eae11e3d-bf12-4656-9af6-6edb56825914",
   "metadata": {},
   "source": [
    "# 0. Imports"
   ]
  },
  {
   "cell_type": "code",
   "execution_count": 1,
   "id": "531203fb-7aa8-403d-9d02-d932bb9c900f",
   "metadata": {},
   "outputs": [],
   "source": [
    "import datetime\n",
    "import os  # for interaaction with the files\n",
    "\n",
    "from langchain import LLMChain, PromptTemplate\n",
    "from langchain.callbacks.base import CallbackManager\n",
    "from langchain.callbacks.streaming_stdout import StreamingStdOutCallbackHandler\n",
    "\n",
    "# to be able to load the pdf files\n",
    "# function for loading only TXT files\n",
    "from langchain.document_loaders import (\n",
    "    DirectoryLoader,\n",
    "    PyPDFLoader,\n",
    "    TextLoader,\n",
    "    UnstructuredPDFLoader,\n",
    ")\n",
    "\n",
    "# LLamaCpp embeddings from the Alpaca model\n",
    "from langchain.embeddings import LlamaCppEmbeddings\n",
    "\n",
    "# Vector Store Index to create our database about our knowledge\n",
    "from langchain.indexes import VectorstoreIndexCreator\n",
    "from langchain.llms import GPT4All\n",
    "\n",
    "# text splitter for create chunks\n",
    "from langchain.text_splitter import RecursiveCharacterTextSplitter\n",
    "\n",
    "# FAISS  library for similaarity search\n",
    "from langchain.vectorstores.faiss import FAISS\n",
    "\n",
    "# TEST FOR SIMILARITY SEARCH"
   ]
  },
  {
   "cell_type": "code",
   "execution_count": 2,
   "id": "0089343e-c1b8-41db-8e73-07c6a7b051a4",
   "metadata": {},
   "outputs": [],
   "source": [
    "# assign the path for the 2 models GPT4All and Alpaca for the embeddings\n",
    "gpt4all_path = \"./models/gpt4all-converted.bin\"\n",
    "llama_path = \"./models/ggml-model-q4_0.bin\""
   ]
  },
  {
   "cell_type": "code",
   "execution_count": 3,
   "id": "55db70cb-022d-4043-8025-73ea6f4b6e4f",
   "metadata": {},
   "outputs": [],
   "source": [
    "# Calback manager for handling the calls with  the model\n",
    "callback_manager = CallbackManager([StreamingStdOutCallbackHandler()])"
   ]
  },
  {
   "cell_type": "code",
   "execution_count": 4,
   "id": "e47fed10-66a9-4000-a29c-6c0cac3f3985",
   "metadata": {},
   "outputs": [
    {
     "name": "stderr",
     "output_type": "stream",
     "text": [
      "AVX = 1 | AVX2 = 1 | AVX512 = 0 | AVX512_VBMI = 0 | AVX512_VNNI = 0 | FMA = 1 | NEON = 0 | ARM_FMA = 0 | F16C = 1 | FP16_VA = 0 | WASM_SIMD = 0 | BLAS = 0 | SSE3 = 1 | VSX = 0 | \n"
     ]
    }
   ],
   "source": [
    "# create the embedding object\n",
    "embeddings = LlamaCppEmbeddings(model_path=llama_path)\n",
    "# create the GPT4All llm object\n",
    "llm = GPT4All(model=gpt4all_path, callback_manager=callback_manager, verbose=True)"
   ]
  },
  {
   "cell_type": "code",
   "execution_count": 5,
   "id": "35f7ebf0-4806-4486-8cab-1031e3312948",
   "metadata": {},
   "outputs": [],
   "source": [
    "# Functions for Split text\n",
    "\n",
    "\n",
    "def split_chunks(sources):\n",
    "    chunks = []\n",
    "    splitter = RecursiveCharacterTextSplitter(chunk_size=256, chunk_overlap=32)\n",
    "    for chunk in splitter.split_documents(sources):\n",
    "        chunks.append(chunk)\n",
    "    return chunks\n",
    "\n",
    "\n",
    "def create_index(chunks):\n",
    "    texts = [doc.page_content for doc in chunks]\n",
    "    metadatas = [doc.metadata for doc in chunks]\n",
    "\n",
    "    search_index = FAISS.from_texts(texts, embeddings, metadatas=metadatas)\n",
    "\n",
    "    return search_index\n",
    "\n",
    "\n",
    "def similarity_search(query, index):\n",
    "    # k is the number of similarity searched that matches the query\n",
    "    # default is 4\n",
    "    matched_docs = index.similarity_search(query, k=3)\n",
    "    sources = []\n",
    "    for doc in matched_docs:\n",
    "        sources.append(\n",
    "            {\n",
    "                \"page_content\": doc.page_content,\n",
    "                \"metadata\": doc.metadata,\n",
    "            }\n",
    "        )\n",
    "\n",
    "    return matched_docs, sources"
   ]
  },
  {
   "cell_type": "code",
   "execution_count": 6,
   "id": "d5401662-1732-44a5-bb96-59a9ce32ea0f",
   "metadata": {},
   "outputs": [
    {
     "name": "stdout",
     "output_type": "stream",
     "text": [
      "[2023-05-21 15:55:01,237] {loader.py:54} INFO - Loading faiss with AVX2 support.\n",
      "[2023-05-21 15:55:01,238] {loader.py:58} INFO - Could not load library with AVX2 support due to:\n",
      "ModuleNotFoundError(\"No module named 'faiss.swigfaiss_avx2'\")\n",
      "[2023-05-21 15:55:01,239] {loader.py:64} INFO - Loading faiss.\n",
      "[2023-05-21 15:55:01,298] {loader.py:66} INFO - Successfully loaded faiss.\n"
     ]
    }
   ],
   "source": [
    "# Load our local index vector db\n",
    "index = FAISS.load_local(\"my_faiss_index\", embeddings)"
   ]
  },
  {
   "cell_type": "markdown",
   "id": "2c6233f5-30ba-481f-9da0-cabe64e48bb9",
   "metadata": {},
   "source": [
    "# 1. Template for Answer"
   ]
  },
  {
   "cell_type": "code",
   "execution_count": 7,
   "id": "6341d8b5-9214-4ea8-91da-3c4fca477cc9",
   "metadata": {},
   "outputs": [],
   "source": [
    "# create the prompt template\n",
    "template = \"\"\"\n",
    "Please use the following context to answer questions.\n",
    "Context: {context}\n",
    "---\n",
    "Question: {question}\n",
    "Answer: Let's think step by step.\"\"\""
   ]
  },
  {
   "cell_type": "markdown",
   "id": "6f5f4c7e-2784-4437-a6ce-b2c734f9f8ac",
   "metadata": {},
   "source": [
    "# 2. Template for Question"
   ]
  },
  {
   "cell_type": "code",
   "execution_count": 8,
   "id": "7e119aca-a8d5-4d73-ac54-dfcb32bfa2ed",
   "metadata": {},
   "outputs": [],
   "source": [
    "# Hardcoded question\n",
    "question = \"How can you become a good manager?\" #\"What is a PLC and what is the difference with a PC\""
   ]
  },
  {
   "cell_type": "code",
   "execution_count": 9,
   "id": "41a557fd-4271-404c-b779-ee666804ffa0",
   "metadata": {},
   "outputs": [],
   "source": [
    "matched_docs, sources = similarity_search(question, index)\n",
    "# Creating the context\n",
    "context = \"\\n\".join([doc.page_content for doc in matched_docs])\n",
    "# instantiating the prompt template and the GPT4All chain\n",
    "prompt = PromptTemplate(\n",
    "    template=template, input_variables=[\"context\", \"question\"]\n",
    ").partial(context=context)\n",
    "llm_chain = LLMChain(prompt=prompt, llm=llm)"
   ]
  },
  {
   "cell_type": "code",
   "execution_count": 10,
   "id": "96cf171a-a6d1-404b-af6e-54f07b5c95f0",
   "metadata": {},
   "outputs": [
    {
     "name": "stdout",
     "output_type": "stream",
     "text": [
      "Here the result of the semantic search on the index, without GPT4All..\n",
      "\n",
      "page_content='and continuously improving performance.The need for ethical and responsible management has never been\\ngreater. One-minute managers can lead by example and promote a\\nculture of integrity and respect.' metadata={'source': './docs\\\\OneMinuteManagers.pdf', 'page': 5}\n"
     ]
    }
   ],
   "source": [
    "print(\"Here the result of the semantic search on the index, without GPT4All..\\n\")\n",
    "print(matched_docs[0])"
   ]
  },
  {
   "cell_type": "markdown",
   "id": "8d98dc3b-2346-4374-81a9-67f506a4ba52",
   "metadata": {},
   "source": [
    "# 3. Execution of LangChain"
   ]
  },
  {
   "cell_type": "code",
   "execution_count": 11,
   "id": "490b23ba-ae2e-40cb-b45a-60d97b74dc16",
   "metadata": {},
   "outputs": [
    {
     "name": "stdout",
     "output_type": "stream",
     "text": [
      " \n",
      "Please use the following context to answer questions.\n",
      "Context: and continuously improving performance.The need for ethical and responsible management has never been\n",
      "greater. One-minute managers can lead by example and promote a\n",
      "culture of integrity and respect.\n",
      "managers: government officials, military officers, corporation executives,\n",
      "shop foremen, and foundation directors, among others.\n",
      "people in a way that benefits both?\n",
      "Despite the passage of time, the principles of the “One-Minute Manager” are\n",
      "still relevant and useful in modern management, and they can help us solve\n",
      "the riddle (how to manage the organization’s and the people's needs).\n",
      "---\n",
      "Question: How can you become a good manager?\n",
      "Answer: Let's think step by step. Firstly, a successful manager should be honest with employees regarding their performance levels so that they are aware of any improvements or weaknesses in an attempt to continuously improve themselves and others around them (One-Minute Managers). Secondly, it is important for managers to communicate clearly what's expected from staff members. And thirdly, a good manager should be fair when dealing with employees by avoiding favoritism towards anyone or showing bias in any manner. Fourthly, they need to provide feedback on performance and give constructive criticism where necessary while also recognizing the achievements of others (One-Minute Managers). Last but not least is that a good manager must have high ethical standards by demonstrating integrity and respect for their employees as well as themselves; this will in turn lead them to become one minute managers."
     ]
    },
    {
     "data": {
      "text/plain": [
       "\" \\nPlease use the following context to answer questions.\\nContext: and continuously improving performance.The need for ethical and responsible management has never been\\ngreater. One-minute managers can lead by example and promote a\\nculture of integrity and respect.\\nmanagers: government officials, military officers, corporation executives,\\nshop foremen, and foundation directors, among others.\\npeople in a way that benefits both?\\nDespite the passage of time, the principles of the “One-Minute Manager” are\\nstill relevant and useful in modern management, and they can help us solve\\nthe riddle (how to manage the organization’s and the people's needs).\\n---\\nQuestion: How can you become a good manager?\\nAnswer: Let's think step by step. Firstly, a successful manager should be honest with employees regarding their performance levels so that they are aware of any improvements or weaknesses in an attempt to continuously improve themselves and others around them (One-Minute Managers). Secondly, it is important for managers to communicate clearly what's expected from staff members. And thirdly, a good manager should be fair when dealing with employees by avoiding favoritism towards anyone or showing bias in any manner. Fourthly, they need to provide feedback on performance and give constructive criticism where necessary while also recognizing the achievements of others (One-Minute Managers). Last but not least is that a good manager must have high ethical standards by demonstrating integrity and respect for their employees as well as themselves; this will in turn lead them to become one minute managers.\""
      ]
     },
     "execution_count": 11,
     "metadata": {},
     "output_type": "execute_result"
    }
   ],
   "source": [
    "# Print the result\n",
    "llm_chain.run(question)"
   ]
  }
 ],
 "metadata": {
  "kernelspec": {
   "display_name": "Python [conda env:gpt4all]",
   "language": "python",
   "name": "conda-env-gpt4all-py"
  },
  "language_info": {
   "codemirror_mode": {
    "name": "ipython",
    "version": 3
   },
   "file_extension": ".py",
   "mimetype": "text/x-python",
   "name": "python",
   "nbconvert_exporter": "python",
   "pygments_lexer": "ipython3",
   "version": "3.10.11"
  }
 },
 "nbformat": 4,
 "nbformat_minor": 5
}
